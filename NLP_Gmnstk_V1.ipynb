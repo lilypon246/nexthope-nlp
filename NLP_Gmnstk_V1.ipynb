{
 "cells": [
  {
   "cell_type": "code",
   "execution_count": 1,
   "id": "731ab3d6",
   "metadata": {},
   "outputs": [],
   "source": [
    "import pandas as pd\n",
    "import seaborn as sns\n",
    "import matplotlib.pyplot as plt\n",
    "import re"
   ]
  },
  {
   "cell_type": "code",
   "execution_count": 2,
   "id": "59f61f2e",
   "metadata": {},
   "outputs": [],
   "source": [
    "from matplotlib import style,rcParams\n",
    "style.use('seaborn-white')\n",
    "rcParams['figure.figsize'] = 10,5\n",
    "import warnings\n",
    "warnings.filterwarnings('ignore')"
   ]
  },
  {
   "attachments": {},
   "cell_type": "markdown",
   "id": "12989ea6",
   "metadata": {},
   "source": [
    "## Import Data"
   ]
  },
  {
   "cell_type": "code",
   "execution_count": 3,
   "id": "f1cb36d2",
   "metadata": {},
   "outputs": [],
   "source": [
    "df = pd.read_csv('./csvfile/databocorv2_part2.csv')"
   ]
  },
  {
   "cell_type": "code",
   "execution_count": 4,
   "id": "249d5a5b",
   "metadata": {},
   "outputs": [
    {
     "data": {
      "text/html": [
       "<div>\n",
       "<style scoped>\n",
       "    .dataframe tbody tr th:only-of-type {\n",
       "        vertical-align: middle;\n",
       "    }\n",
       "\n",
       "    .dataframe tbody tr th {\n",
       "        vertical-align: top;\n",
       "    }\n",
       "\n",
       "    .dataframe thead th {\n",
       "        text-align: right;\n",
       "    }\n",
       "</style>\n",
       "<table border=\"1\" class=\"dataframe\">\n",
       "  <thead>\n",
       "    <tr style=\"text-align: right;\">\n",
       "      <th></th>\n",
       "      <th>_type</th>\n",
       "      <th>url</th>\n",
       "      <th>date</th>\n",
       "      <th>rawContent</th>\n",
       "      <th>renderedContent</th>\n",
       "      <th>id</th>\n",
       "      <th>user</th>\n",
       "      <th>replyCount</th>\n",
       "      <th>retweetCount</th>\n",
       "      <th>likeCount</th>\n",
       "      <th>...</th>\n",
       "      <th>bookmarkCount</th>\n",
       "      <th>pinned</th>\n",
       "      <th>editState</th>\n",
       "      <th>content</th>\n",
       "      <th>outlinks</th>\n",
       "      <th>outlinksss</th>\n",
       "      <th>tcooutlinks</th>\n",
       "      <th>tcooutlinksss</th>\n",
       "      <th>username</th>\n",
       "      <th>_snscrape</th>\n",
       "    </tr>\n",
       "  </thead>\n",
       "  <tbody>\n",
       "    <tr>\n",
       "      <th>0</th>\n",
       "      <td>snscrape.modules.twitter.Tweet</td>\n",
       "      <td>https://twitter.com/M4vikalp/status/1669046706...</td>\n",
       "      <td>2023-06-14 18:18:38+00:00</td>\n",
       "      <td>Sudah tepat kalau kita #TolakRUUKesehatanOmnib...</td>\n",
       "      <td>Sudah tepat kalau kita #TolakRUUKesehatanOmnib...</td>\n",
       "      <td>1669046706283880448</td>\n",
       "      <td>{'_type': 'snscrape.modules.twitter.User', 'us...</td>\n",
       "      <td>0.0</td>\n",
       "      <td>16</td>\n",
       "      <td>29.0</td>\n",
       "      <td>...</td>\n",
       "      <td>0.0</td>\n",
       "      <td>NaN</td>\n",
       "      <td>{'_type': 'snscrape.modules.twitter.EditState'...</td>\n",
       "      <td>Sudah tepat kalau kita #TolakRUUKesehatanOmnib...</td>\n",
       "      <td>[]</td>\n",
       "      <td>NaN</td>\n",
       "      <td>[]</td>\n",
       "      <td>NaN</td>\n",
       "      <td>M4vikalp</td>\n",
       "      <td>0.6.2.20230321.dev50+g0d824ab</td>\n",
       "    </tr>\n",
       "    <tr>\n",
       "      <th>1</th>\n",
       "      <td>snscrape.modules.twitter.Tweet</td>\n",
       "      <td>https://twitter.com/Catatan_ali7/status/166901...</td>\n",
       "      <td>2023-06-14 16:19:09+00:00</td>\n",
       "      <td>Masalah stunting, jamban bersih, pengadaan ala...</td>\n",
       "      <td>Masalah stunting, jamban bersih, pengadaan ala...</td>\n",
       "      <td>1669016637465587712</td>\n",
       "      <td>{'_type': 'snscrape.modules.twitter.User', 'us...</td>\n",
       "      <td>0.0</td>\n",
       "      <td>35</td>\n",
       "      <td>35.0</td>\n",
       "      <td>...</td>\n",
       "      <td>1.0</td>\n",
       "      <td>NaN</td>\n",
       "      <td>{'_type': 'snscrape.modules.twitter.EditState'...</td>\n",
       "      <td>Masalah stunting, jamban bersih, pengadaan ala...</td>\n",
       "      <td>[]</td>\n",
       "      <td>NaN</td>\n",
       "      <td>[]</td>\n",
       "      <td>NaN</td>\n",
       "      <td>Catatan_ali7</td>\n",
       "      <td>0.6.2.20230321.dev50+g0d824ab</td>\n",
       "    </tr>\n",
       "    <tr>\n",
       "      <th>2</th>\n",
       "      <td>snscrape.modules.twitter.Tweet</td>\n",
       "      <td>https://twitter.com/M4vikalp/status/1668989989...</td>\n",
       "      <td>2023-06-14 14:33:16+00:00</td>\n",
       "      <td>@Catatan_ali7 @Ngabila Ayo dijawab @Ngabila ma...</td>\n",
       "      <td>@Catatan_ali7 @Ngabila Ayo dijawab @Ngabila ma...</td>\n",
       "      <td>1668989989282099201</td>\n",
       "      <td>{'_type': 'snscrape.modules.twitter.User', 'us...</td>\n",
       "      <td>0.0</td>\n",
       "      <td>6</td>\n",
       "      <td>9.0</td>\n",
       "      <td>...</td>\n",
       "      <td>0.0</td>\n",
       "      <td>NaN</td>\n",
       "      <td>{'_type': 'snscrape.modules.twitter.EditState'...</td>\n",
       "      <td>@Catatan_ali7 @Ngabila Ayo dijawab @Ngabila ma...</td>\n",
       "      <td>[]</td>\n",
       "      <td>NaN</td>\n",
       "      <td>[]</td>\n",
       "      <td>NaN</td>\n",
       "      <td>M4vikalp</td>\n",
       "      <td>0.6.2.20230321.dev50+g0d824ab</td>\n",
       "    </tr>\n",
       "    <tr>\n",
       "      <th>3</th>\n",
       "      <td>snscrape.modules.twitter.Tweet</td>\n",
       "      <td>https://twitter.com/alisyanura/status/16689836...</td>\n",
       "      <td>2023-06-14 14:08:05+00:00</td>\n",
       "      <td>Punya bapak polos bgt sih😭 udh panik kirain da...</td>\n",
       "      <td>Punya bapak polos bgt sih😭 udh panik kirain da...</td>\n",
       "      <td>1668983653634908161</td>\n",
       "      <td>{'_type': 'snscrape.modules.twitter.User', 'us...</td>\n",
       "      <td>0.0</td>\n",
       "      <td>0</td>\n",
       "      <td>0.0</td>\n",
       "      <td>...</td>\n",
       "      <td>0.0</td>\n",
       "      <td>NaN</td>\n",
       "      <td>{'_type': 'snscrape.modules.twitter.EditState'...</td>\n",
       "      <td>Punya bapak polos bgt sih😭 udh panik kirain da...</td>\n",
       "      <td>[]</td>\n",
       "      <td>NaN</td>\n",
       "      <td>[]</td>\n",
       "      <td>NaN</td>\n",
       "      <td>alisyanura</td>\n",
       "      <td>0.6.2.20230321.dev50+g0d824ab</td>\n",
       "    </tr>\n",
       "    <tr>\n",
       "      <th>4</th>\n",
       "      <td>snscrape.modules.twitter.Tweet</td>\n",
       "      <td>https://twitter.com/akbrgn/status/166898215433...</td>\n",
       "      <td>2023-06-14 14:02:08+00:00</td>\n",
       "      <td>@rasndeso @hrdbacot Ini antara data bocor atau...</td>\n",
       "      <td>@rasndeso @hrdbacot Ini antara data bocor atau...</td>\n",
       "      <td>1668982154334699520</td>\n",
       "      <td>{'_type': 'snscrape.modules.twitter.User', 'us...</td>\n",
       "      <td>1.0</td>\n",
       "      <td>0</td>\n",
       "      <td>1.0</td>\n",
       "      <td>...</td>\n",
       "      <td>0.0</td>\n",
       "      <td>NaN</td>\n",
       "      <td>{'_type': 'snscrape.modules.twitter.EditState'...</td>\n",
       "      <td>@rasndeso @hrdbacot Ini antara data bocor atau...</td>\n",
       "      <td>[]</td>\n",
       "      <td>NaN</td>\n",
       "      <td>[]</td>\n",
       "      <td>NaN</td>\n",
       "      <td>akbrgn</td>\n",
       "      <td>0.6.2.20230321.dev50+g0d824ab</td>\n",
       "    </tr>\n",
       "  </tbody>\n",
       "</table>\n",
       "<p>5 rows × 40 columns</p>\n",
       "</div>"
      ],
      "text/plain": [
       "                            _type  \\\n",
       "0  snscrape.modules.twitter.Tweet   \n",
       "1  snscrape.modules.twitter.Tweet   \n",
       "2  snscrape.modules.twitter.Tweet   \n",
       "3  snscrape.modules.twitter.Tweet   \n",
       "4  snscrape.modules.twitter.Tweet   \n",
       "\n",
       "                                                 url  \\\n",
       "0  https://twitter.com/M4vikalp/status/1669046706...   \n",
       "1  https://twitter.com/Catatan_ali7/status/166901...   \n",
       "2  https://twitter.com/M4vikalp/status/1668989989...   \n",
       "3  https://twitter.com/alisyanura/status/16689836...   \n",
       "4  https://twitter.com/akbrgn/status/166898215433...   \n",
       "\n",
       "                        date  \\\n",
       "0  2023-06-14 18:18:38+00:00   \n",
       "1  2023-06-14 16:19:09+00:00   \n",
       "2  2023-06-14 14:33:16+00:00   \n",
       "3  2023-06-14 14:08:05+00:00   \n",
       "4  2023-06-14 14:02:08+00:00   \n",
       "\n",
       "                                          rawContent  \\\n",
       "0  Sudah tepat kalau kita #TolakRUUKesehatanOmnib...   \n",
       "1  Masalah stunting, jamban bersih, pengadaan ala...   \n",
       "2  @Catatan_ali7 @Ngabila Ayo dijawab @Ngabila ma...   \n",
       "3  Punya bapak polos bgt sih😭 udh panik kirain da...   \n",
       "4  @rasndeso @hrdbacot Ini antara data bocor atau...   \n",
       "\n",
       "                                     renderedContent                   id  \\\n",
       "0  Sudah tepat kalau kita #TolakRUUKesehatanOmnib...  1669046706283880448   \n",
       "1  Masalah stunting, jamban bersih, pengadaan ala...  1669016637465587712   \n",
       "2  @Catatan_ali7 @Ngabila Ayo dijawab @Ngabila ma...  1668989989282099201   \n",
       "3  Punya bapak polos bgt sih😭 udh panik kirain da...  1668983653634908161   \n",
       "4  @rasndeso @hrdbacot Ini antara data bocor atau...  1668982154334699520   \n",
       "\n",
       "                                                user  replyCount retweetCount  \\\n",
       "0  {'_type': 'snscrape.modules.twitter.User', 'us...         0.0           16   \n",
       "1  {'_type': 'snscrape.modules.twitter.User', 'us...         0.0           35   \n",
       "2  {'_type': 'snscrape.modules.twitter.User', 'us...         0.0            6   \n",
       "3  {'_type': 'snscrape.modules.twitter.User', 'us...         0.0            0   \n",
       "4  {'_type': 'snscrape.modules.twitter.User', 'us...         1.0            0   \n",
       "\n",
       "   likeCount  ...  bookmarkCount  pinned  \\\n",
       "0       29.0  ...            0.0     NaN   \n",
       "1       35.0  ...            1.0     NaN   \n",
       "2        9.0  ...            0.0     NaN   \n",
       "3        0.0  ...            0.0     NaN   \n",
       "4        1.0  ...            0.0     NaN   \n",
       "\n",
       "                                           editState  \\\n",
       "0  {'_type': 'snscrape.modules.twitter.EditState'...   \n",
       "1  {'_type': 'snscrape.modules.twitter.EditState'...   \n",
       "2  {'_type': 'snscrape.modules.twitter.EditState'...   \n",
       "3  {'_type': 'snscrape.modules.twitter.EditState'...   \n",
       "4  {'_type': 'snscrape.modules.twitter.EditState'...   \n",
       "\n",
       "                                             content  outlinks  outlinksss  \\\n",
       "0  Sudah tepat kalau kita #TolakRUUKesehatanOmnib...        []         NaN   \n",
       "1  Masalah stunting, jamban bersih, pengadaan ala...        []         NaN   \n",
       "2  @Catatan_ali7 @Ngabila Ayo dijawab @Ngabila ma...        []         NaN   \n",
       "3  Punya bapak polos bgt sih😭 udh panik kirain da...        []         NaN   \n",
       "4  @rasndeso @hrdbacot Ini antara data bocor atau...        []         NaN   \n",
       "\n",
       "  tcooutlinks tcooutlinksss      username                      _snscrape  \n",
       "0          []           NaN      M4vikalp  0.6.2.20230321.dev50+g0d824ab  \n",
       "1          []           NaN  Catatan_ali7  0.6.2.20230321.dev50+g0d824ab  \n",
       "2          []           NaN      M4vikalp  0.6.2.20230321.dev50+g0d824ab  \n",
       "3          []           NaN    alisyanura  0.6.2.20230321.dev50+g0d824ab  \n",
       "4          []           NaN        akbrgn  0.6.2.20230321.dev50+g0d824ab  \n",
       "\n",
       "[5 rows x 40 columns]"
      ]
     },
     "execution_count": 4,
     "metadata": {},
     "output_type": "execute_result"
    }
   ],
   "source": [
    "df.head()"
   ]
  },
  {
   "cell_type": "code",
   "execution_count": 5,
   "id": "8e1a159c",
   "metadata": {},
   "outputs": [],
   "source": [
    "df = df[['date', 'content']]"
   ]
  },
  {
   "cell_type": "code",
   "execution_count": 6,
   "id": "53945375",
   "metadata": {},
   "outputs": [
    {
     "data": {
      "text/html": [
       "<div>\n",
       "<style scoped>\n",
       "    .dataframe tbody tr th:only-of-type {\n",
       "        vertical-align: middle;\n",
       "    }\n",
       "\n",
       "    .dataframe tbody tr th {\n",
       "        vertical-align: top;\n",
       "    }\n",
       "\n",
       "    .dataframe thead th {\n",
       "        text-align: right;\n",
       "    }\n",
       "</style>\n",
       "<table border=\"1\" class=\"dataframe\">\n",
       "  <thead>\n",
       "    <tr style=\"text-align: right;\">\n",
       "      <th></th>\n",
       "      <th>date</th>\n",
       "      <th>content</th>\n",
       "    </tr>\n",
       "  </thead>\n",
       "  <tbody>\n",
       "    <tr>\n",
       "      <th>0</th>\n",
       "      <td>2023-06-14 18:18:38+00:00</td>\n",
       "      <td>Sudah tepat kalau kita #TolakRUUKesehatanOmnib...</td>\n",
       "    </tr>\n",
       "    <tr>\n",
       "      <th>1</th>\n",
       "      <td>2023-06-14 16:19:09+00:00</td>\n",
       "      <td>Masalah stunting, jamban bersih, pengadaan ala...</td>\n",
       "    </tr>\n",
       "    <tr>\n",
       "      <th>2</th>\n",
       "      <td>2023-06-14 14:33:16+00:00</td>\n",
       "      <td>@Catatan_ali7 @Ngabila Ayo dijawab @Ngabila ma...</td>\n",
       "    </tr>\n",
       "    <tr>\n",
       "      <th>3</th>\n",
       "      <td>2023-06-14 14:08:05+00:00</td>\n",
       "      <td>Punya bapak polos bgt sih😭 udh panik kirain da...</td>\n",
       "    </tr>\n",
       "    <tr>\n",
       "      <th>4</th>\n",
       "      <td>2023-06-14 14:02:08+00:00</td>\n",
       "      <td>@rasndeso @hrdbacot Ini antara data bocor atau...</td>\n",
       "    </tr>\n",
       "  </tbody>\n",
       "</table>\n",
       "</div>"
      ],
      "text/plain": [
       "                        date  \\\n",
       "0  2023-06-14 18:18:38+00:00   \n",
       "1  2023-06-14 16:19:09+00:00   \n",
       "2  2023-06-14 14:33:16+00:00   \n",
       "3  2023-06-14 14:08:05+00:00   \n",
       "4  2023-06-14 14:02:08+00:00   \n",
       "\n",
       "                                             content  \n",
       "0  Sudah tepat kalau kita #TolakRUUKesehatanOmnib...  \n",
       "1  Masalah stunting, jamban bersih, pengadaan ala...  \n",
       "2  @Catatan_ali7 @Ngabila Ayo dijawab @Ngabila ma...  \n",
       "3  Punya bapak polos bgt sih😭 udh panik kirain da...  \n",
       "4  @rasndeso @hrdbacot Ini antara data bocor atau...  "
      ]
     },
     "execution_count": 6,
     "metadata": {},
     "output_type": "execute_result"
    }
   ],
   "source": [
    "df.head()"
   ]
  },
  {
   "cell_type": "code",
   "execution_count": 7,
   "id": "65294e87",
   "metadata": {},
   "outputs": [
    {
     "name": "stdout",
     "output_type": "stream",
     "text": [
      "<class 'pandas.core.frame.DataFrame'>\n",
      "RangeIndex: 22746 entries, 0 to 22745\n",
      "Data columns (total 2 columns):\n",
      " #   Column   Non-Null Count  Dtype \n",
      "---  ------   --------------  ----- \n",
      " 0   date     22741 non-null  object\n",
      " 1   content  22739 non-null  object\n",
      "dtypes: object(2)\n",
      "memory usage: 355.5+ KB\n"
     ]
    }
   ],
   "source": [
    "df.info()"
   ]
  },
  {
   "attachments": {},
   "cell_type": "markdown",
   "id": "3079cbf0",
   "metadata": {},
   "source": [
    "## Data Preprocessing"
   ]
  },
  {
   "attachments": {},
   "cell_type": "markdown",
   "id": "b37888b7",
   "metadata": {},
   "source": [
    "### Drop Emoticon"
   ]
  },
  {
   "cell_type": "code",
   "execution_count": 8,
   "id": "e578a6b5",
   "metadata": {},
   "outputs": [],
   "source": [
    "# Iterate over the rows in the dataframe\n",
    "emoticon_pattern = r'[\\U0001F600-\\U0001F64F\\U0001F300-\\U0001F5FF\\U0001F680-\\U0001F6FF\\U0001F1E0-\\U0001F1FF\\U00002600-\\U000026FF\\U00002700-\\U000027BF\\U0001F900-\\U0001F9FF\\U0001F600-\\U0001F64F\\U0001F680-\\U0001F6FF\\U00002600-\\U000026FF\\U00002700-\\U000027BF\\U0001F300-\\U0001F5FF\\U0001F900-\\U0001F9FF\\U0001F600-\\U0001F64F\\U0001F680-\\U0001F6FF\\U0001F300-\\U0001F5FF\\U0001F680-\\U0001F6FF\\U00002600-\\U000026FF\\U00002700-\\U000027BF\\U0001F900-\\U0001F9FF\\U0001F600-\\U0001F64F\\U0001F680-\\U0001F6FF\\U00002600-\\U000026FF\\U00002700-\\U000027BF\\U0001F300-\\U0001F5FF\\U0001F900-\\U0001F9FF\\U0001F600-\\U0001F64F\\U0001F680-\\U0001F6FF\\U00002600-\\U000026FF\\U00002700-\\U000027BF\\U0001F300-\\U0001F5FF\\U0001F900-\\U0001F9FF]+'\n",
    "\n",
    "for i in range(0,len(df['content'])):\n",
    "    # Perform the desired manipulation\n",
    "    \n",
    "    value = str(df['content'][i])\n",
    "    \n",
    "    output = re.sub(emoticon_pattern, '', value)\n",
    "    \n",
    "    #print(output)\n",
    "    # Change the value in place\n",
    "    df.loc[i,\"content\"]= output"
   ]
  },
  {
   "attachments": {},
   "cell_type": "markdown",
   "id": "546be209",
   "metadata": {},
   "source": [
    "### Drop tag"
   ]
  },
  {
   "cell_type": "code",
   "execution_count": 9,
   "id": "7ba09eca",
   "metadata": {},
   "outputs": [],
   "source": [
    "for i in range(0,len(df['content'])):\n",
    "    # Perform the desired manipulation\n",
    "    \n",
    "    value = str(df['content'][i])\n",
    "    \n",
    "    # Define the mention pattern\n",
    "    mention_pattern = r'@\\w+'\n",
    "    \n",
    "    output = re.sub(mention_pattern, '', value)\n",
    "\n",
    "    #print(output)\n",
    "    # Change the value in place\n",
    "    df.loc[i,\"content\"]= output"
   ]
  },
  {
   "cell_type": "code",
   "execution_count": 10,
   "id": "d7e0beed",
   "metadata": {},
   "outputs": [
    {
     "data": {
      "text/plain": [
       "'Sudah tepat kalau kita #TolakRUUKesehatanOmnibuslaw \\n\\nMulai saat ini abaikan apapun yang dishare dari  soal MANIS NYA RUU KESEHATAN\\n\\nYang mereka sampaikan itu HALUSINASI &amp; Tidak bisa dipertanggung jawabkan\\n\\nTANYA SAJA JIKA DATA GENOM BOCOR APA MEREKA MAU TANGGUNG JAWAB ? https://t.co/5NU9QP0neQ'"
      ]
     },
     "execution_count": 10,
     "metadata": {},
     "output_type": "execute_result"
    }
   ],
   "source": [
    "df.content[0]"
   ]
  },
  {
   "attachments": {},
   "cell_type": "markdown",
   "id": "641b8781",
   "metadata": {},
   "source": [
    "### Drop Link"
   ]
  },
  {
   "cell_type": "code",
   "execution_count": 11,
   "id": "fbd84d2b",
   "metadata": {},
   "outputs": [],
   "source": [
    "for i in range(0,len(df['content'])):\n",
    "    # Perform the desired manipulation\n",
    "    \n",
    "    value = str(df['content'][i])\n",
    "    \n",
    "    # Define the mention pattern\n",
    "    link_pattern = r'\\s*https?://\\S+$'\n",
    "    \n",
    "    output = re.sub(link_pattern, '', value)\n",
    "\n",
    "    #print(output)\n",
    "    # Change the value in place\n",
    "    df.loc[i,\"content\"]= output"
   ]
  },
  {
   "cell_type": "code",
   "execution_count": 12,
   "id": "2b0a7b5f",
   "metadata": {},
   "outputs": [
    {
     "data": {
      "text/plain": [
       "'Sudah tepat kalau kita #TolakRUUKesehatanOmnibuslaw \\n\\nMulai saat ini abaikan apapun yang dishare dari  soal MANIS NYA RUU KESEHATAN\\n\\nYang mereka sampaikan itu HALUSINASI &amp; Tidak bisa dipertanggung jawabkan\\n\\nTANYA SAJA JIKA DATA GENOM BOCOR APA MEREKA MAU TANGGUNG JAWAB ?'"
      ]
     },
     "execution_count": 12,
     "metadata": {},
     "output_type": "execute_result"
    }
   ],
   "source": [
    "df.content[0]"
   ]
  },
  {
   "attachments": {},
   "cell_type": "markdown",
   "id": "2692fd68",
   "metadata": {},
   "source": [
    "### Drop escape characters and HTML entities"
   ]
  },
  {
   "cell_type": "code",
   "execution_count": 13,
   "id": "cf4e4e2a",
   "metadata": {},
   "outputs": [],
   "source": [
    "\n",
    "def remove_escape_sequences(text):\n",
    "    # Remove escape sequences\n",
    "    text = re.sub(r'\\\\\\\\', '', text)     # \\\\\n",
    "    text = re.sub(r\"\\\\'\", \"'\", text)     # \\'\n",
    "    text = re.sub(r'\\\\\"', '\"', text)     # \\\"\n",
    "    text = re.sub(r'\\\\n', '', text)      # \\n\n",
    "    text = re.sub(r'\\n\\n', '', text)\n",
    "    text = re.sub(r'\\\\t', '', text)      # \\t\n",
    "    text = re.sub(r'\\\\b', '', text)      # \\b\n",
    "    text = re.sub(r'\\\\r', '', text)      # \\r\n",
    "    text = re.sub(r'\\\\f', '', text)      # \\f\n",
    "    text = re.sub(r'\\\\012', '', text)    # \\012\n",
    "    text = re.sub(r'\\\\x0A', '', text)    # \\x0A\n",
    "    \n",
    "    return text\n",
    "\n",
    "def remove_html_entities(text):\n",
    "    # Remove HTML entities\n",
    "    text = re.sub(r'&amp;', '', text)\n",
    "    text = re.sub(r'&lt;', '', text)\n",
    "    text = re.sub(r'&gt;', '', text)\n",
    "    text = re.sub(r'&quot;', '', text)\n",
    "    text = re.sub(r'&apos;', '', text)\n",
    "    text = re.sub(r'&nbsp;', '', text)\n",
    "    \n",
    "    return text\n",
    "\n",
    "for i in range(0,len(df['content'])):\n",
    "    # Perform the desired manipulation\n",
    "    \n",
    "    value = str(df['content'][i])\n",
    "    \n",
    "    value = remove_escape_sequences(value)\n",
    "    value = remove_html_entities(value)\n",
    "\n",
    "\n",
    "    #print(output)\n",
    "    # Change the value in place\n",
    "    df.loc[i,\"content\"]= value"
   ]
  },
  {
   "cell_type": "code",
   "execution_count": 14,
   "id": "32a5efee",
   "metadata": {},
   "outputs": [
    {
     "data": {
      "text/plain": [
       "'Plate Respons DPR Soal Tanggung Jawab Bocor Data: Bukan Tugas Kominfo'"
      ]
     },
     "execution_count": 14,
     "metadata": {},
     "output_type": "execute_result"
    }
   ],
   "source": [
    "df.content[10000]"
   ]
  },
  {
   "attachments": {},
   "cell_type": "markdown",
   "id": "810c35a2",
   "metadata": {},
   "source": [
    "### Drop Hashtags"
   ]
  },
  {
   "cell_type": "code",
   "execution_count": 15,
   "id": "1e9f705c",
   "metadata": {},
   "outputs": [],
   "source": [
    "for i in range(0,len(df['content'])):\n",
    "    # Perform the desired manipulation\n",
    "    \n",
    "    value = str(df['content'][i])\n",
    "    \n",
    "    # Define the mention pattern\n",
    "    \n",
    "    output = re.sub(r'#\\w+', '', value)\n",
    "\n",
    "    #print(output)\n",
    "    # Change the value in place\n",
    "    df.loc[i,\"content\"]= output"
   ]
  },
  {
   "cell_type": "code",
   "execution_count": 16,
   "id": "c03e15a5",
   "metadata": {},
   "outputs": [
    {
     "data": {
      "text/plain": [
       "'Sudah tepat kalau kita  Mulai saat ini abaikan apapun yang dishare dari  soal MANIS NYA RUU KESEHATANYang mereka sampaikan itu HALUSINASI  Tidak bisa dipertanggung jawabkanTANYA SAJA JIKA DATA GENOM BOCOR APA MEREKA MAU TANGGUNG JAWAB ?'"
      ]
     },
     "execution_count": 16,
     "metadata": {},
     "output_type": "execute_result"
    }
   ],
   "source": [
    "df.content[0]"
   ]
  },
  {
   "attachments": {},
   "cell_type": "markdown",
   "id": "70d694ed",
   "metadata": {},
   "source": [
    "### Drop Punctuation"
   ]
  },
  {
   "cell_type": "code",
   "execution_count": 17,
   "id": "1846ca52",
   "metadata": {},
   "outputs": [],
   "source": [
    "import string\n",
    "\n",
    "def remove_punctuation(sentence):\n",
    "    # Create a translation table mapping punctuation characters to None\n",
    "    translator = str.maketrans(\"\", \"\", string.punctuation)\n",
    "    \n",
    "    # Remove punctuation using the translation table\n",
    "    sentence_without_punctuation = sentence.translate(translator)\n",
    "    \n",
    "    return sentence_without_punctuation\n",
    "\n",
    "for i in range(0,len(df['content'])):\n",
    "    # Perform the desired manipulation\n",
    "    \n",
    "    value = str(df['content'][i])\n",
    "    \n",
    "    output =  remove_punctuation(value)\n",
    "\n",
    "    #print(output)\n",
    "    # Change the value in place\n",
    "    df.loc[i,\"content\"]= output"
   ]
  },
  {
   "cell_type": "code",
   "execution_count": 18,
   "id": "85d55281",
   "metadata": {},
   "outputs": [
    {
     "data": {
      "text/plain": [
       "'Sudah tepat kalau kita  Mulai saat ini abaikan apapun yang dishare dari  soal MANIS NYA RUU KESEHATANYang mereka sampaikan itu HALUSINASI  Tidak bisa dipertanggung jawabkanTANYA SAJA JIKA DATA GENOM BOCOR APA MEREKA MAU TANGGUNG JAWAB '"
      ]
     },
     "execution_count": 18,
     "metadata": {},
     "output_type": "execute_result"
    }
   ],
   "source": [
    "df.content[0]"
   ]
  },
  {
   "attachments": {},
   "cell_type": "markdown",
   "id": "fe3c6584",
   "metadata": {},
   "source": [
    "### Lowercasing"
   ]
  },
  {
   "cell_type": "code",
   "execution_count": 19,
   "id": "fcb165e3",
   "metadata": {},
   "outputs": [],
   "source": [
    "for i in range(0,len(df['content'])):\n",
    "    # Perform the desired manipulation\n",
    "    \n",
    "    value = str(df['content'][i])\n",
    "    \n",
    "    output =  value.lower()\n",
    "\n",
    "    #print(output)\n",
    "    # Change the value in place\n",
    "    df.loc[i,\"content\"]= output"
   ]
  },
  {
   "cell_type": "code",
   "execution_count": 20,
   "id": "872aa9a6",
   "metadata": {},
   "outputs": [
    {
     "data": {
      "text/plain": [
       "'sudah tepat kalau kita  mulai saat ini abaikan apapun yang dishare dari  soal manis nya ruu kesehatanyang mereka sampaikan itu halusinasi  tidak bisa dipertanggung jawabkantanya saja jika data genom bocor apa mereka mau tanggung jawab '"
      ]
     },
     "execution_count": 20,
     "metadata": {},
     "output_type": "execute_result"
    }
   ],
   "source": [
    "df.content[0]"
   ]
  },
  {
   "attachments": {},
   "cell_type": "markdown",
   "id": "a7c774c7",
   "metadata": {},
   "source": [
    "### Stemming"
   ]
  },
  {
   "cell_type": "code",
   "execution_count": 21,
   "id": "d9ab8503",
   "metadata": {},
   "outputs": [],
   "source": [
    "# import StemmerFactory class\n",
    "from Sastrawi.Stemmer.StemmerFactory import StemmerFactory"
   ]
  },
  {
   "cell_type": "code",
   "execution_count": 22,
   "id": "697ae289",
   "metadata": {},
   "outputs": [],
   "source": [
    "# create stemmer\n",
    "factory = StemmerFactory()\n",
    "stemmer = factory.create_stemmer()"
   ]
  },
  {
   "cell_type": "code",
   "execution_count": 23,
   "id": "0ac50404",
   "metadata": {},
   "outputs": [],
   "source": [
    "df['content'] = df['content'].astype(str).apply(lambda x: stemmer.stem(x))"
   ]
  },
  {
   "attachments": {},
   "cell_type": "markdown",
   "id": "f0042bed",
   "metadata": {},
   "source": [
    "### Tokenization"
   ]
  },
  {
   "cell_type": "code",
   "execution_count": 17,
   "id": "6e22fbfc",
   "metadata": {},
   "outputs": [
    {
     "name": "stderr",
     "output_type": "stream",
     "text": [
      "[nltk_data] Downloading package punkt to\n",
      "[nltk_data]     C:\\Users\\HUAWEI\\AppData\\Roaming\\nltk_data...\n",
      "[nltk_data]   Package punkt is already up-to-date!\n"
     ]
    },
    {
     "data": {
      "text/plain": [
       "True"
      ]
     },
     "execution_count": 17,
     "metadata": {},
     "output_type": "execute_result"
    }
   ],
   "source": [
    "import nltk\n",
    "nltk.download('punkt')"
   ]
  },
  {
   "cell_type": "code",
   "execution_count": 25,
   "id": "2fca0aad",
   "metadata": {},
   "outputs": [],
   "source": [
    "from nltk.tokenize import word_tokenize"
   ]
  },
  {
   "cell_type": "code",
   "execution_count": 26,
   "id": "5b9341c6",
   "metadata": {},
   "outputs": [],
   "source": [
    "for i in range(0,len(df['content'])):\n",
    "    # Perform the desired manipulation\n",
    "    \n",
    "    value = str(df['content'][i])\n",
    "    \n",
    "    output =  word_tokenize(value)\n",
    "\n",
    "    #print(output)\n",
    "    # Change the value in place\n",
    "    df.loc[i,\"content\"]= output"
   ]
  },
  {
   "cell_type": "code",
   "execution_count": 33,
   "id": "817178cb",
   "metadata": {
    "scrolled": false
   },
   "outputs": [
    {
     "data": {
      "text/plain": [
       "['nder',\n",
       " 'aku',\n",
       " 'juga',\n",
       " 'begitu',\n",
       " 'tapi',\n",
       " 'lebih',\n",
       " 'baik',\n",
       " 'jangan',\n",
       " 'foto',\n",
       " 'karena',\n",
       " 'kita',\n",
       " 'enggak',\n",
       " 'tau',\n",
       " 'bagaimana',\n",
       " 'data',\n",
       " 'kita',\n",
       " 'bisa',\n",
       " 'bocor',\n",
       " 'nanti',\n",
       " 'saran',\n",
       " 'sih',\n",
       " 'enggak',\n",
       " 'papa',\n",
       " 'banyak',\n",
       " 'mengaca',\n",
       " 'terus',\n",
       " 'muji',\n",
       " 'hasil',\n",
       " 'diet',\n",
       " 'tapi',\n",
       " 'lebih',\n",
       " 'baik',\n",
       " 'jangan',\n",
       " 'simpan',\n",
       " 'ke',\n",
       " 'dalam',\n",
       " 'bentuk',\n",
       " 'foto',\n",
       " 'nder']"
      ]
     },
     "execution_count": 33,
     "metadata": {},
     "output_type": "execute_result"
    }
   ],
   "source": [
    "df.content[100]"
   ]
  },
  {
   "attachments": {},
   "cell_type": "markdown",
   "id": "6de98273",
   "metadata": {},
   "source": [
    "### Slang word to Standard word"
   ]
  },
  {
   "cell_type": "code",
   "execution_count": 28,
   "id": "686ed644",
   "metadata": {},
   "outputs": [],
   "source": [
    "slang_word = pd.read_csv('./csvfile/colloquial-indonesian-lexicon.csv')"
   ]
  },
  {
   "cell_type": "code",
   "execution_count": 29,
   "id": "0f2f911c",
   "metadata": {},
   "outputs": [
    {
     "data": {
      "text/html": [
       "<div>\n",
       "<style scoped>\n",
       "    .dataframe tbody tr th:only-of-type {\n",
       "        vertical-align: middle;\n",
       "    }\n",
       "\n",
       "    .dataframe tbody tr th {\n",
       "        vertical-align: top;\n",
       "    }\n",
       "\n",
       "    .dataframe thead th {\n",
       "        text-align: right;\n",
       "    }\n",
       "</style>\n",
       "<table border=\"1\" class=\"dataframe\">\n",
       "  <thead>\n",
       "    <tr style=\"text-align: right;\">\n",
       "      <th></th>\n",
       "      <th>slang</th>\n",
       "      <th>formal</th>\n",
       "      <th>In-dictionary</th>\n",
       "      <th>context</th>\n",
       "      <th>category1</th>\n",
       "      <th>category2</th>\n",
       "      <th>category3</th>\n",
       "    </tr>\n",
       "  </thead>\n",
       "  <tbody>\n",
       "    <tr>\n",
       "      <th>0</th>\n",
       "      <td>woww</td>\n",
       "      <td>wow</td>\n",
       "      <td>1</td>\n",
       "      <td>wow</td>\n",
       "      <td>elongasi</td>\n",
       "      <td>0</td>\n",
       "      <td>0</td>\n",
       "    </tr>\n",
       "    <tr>\n",
       "      <th>1</th>\n",
       "      <td>aminn</td>\n",
       "      <td>amin</td>\n",
       "      <td>1</td>\n",
       "      <td>Selamat ulang tahun kakak tulus semoga panjang...</td>\n",
       "      <td>elongasi</td>\n",
       "      <td>0</td>\n",
       "      <td>0</td>\n",
       "    </tr>\n",
       "    <tr>\n",
       "      <th>2</th>\n",
       "      <td>met</td>\n",
       "      <td>selamat</td>\n",
       "      <td>1</td>\n",
       "      <td>Met hari netaas kak!? Wish you all the best @t...</td>\n",
       "      <td>abreviasi</td>\n",
       "      <td>0</td>\n",
       "      <td>0</td>\n",
       "    </tr>\n",
       "    <tr>\n",
       "      <th>3</th>\n",
       "      <td>netaas</td>\n",
       "      <td>menetas</td>\n",
       "      <td>1</td>\n",
       "      <td>Met hari netaas kak!? Wish you all the best @t...</td>\n",
       "      <td>afiksasi</td>\n",
       "      <td>elongasi</td>\n",
       "      <td>0</td>\n",
       "    </tr>\n",
       "    <tr>\n",
       "      <th>4</th>\n",
       "      <td>keberpa</td>\n",
       "      <td>keberapa</td>\n",
       "      <td>0</td>\n",
       "      <td>Birthday yg keberpa kak?</td>\n",
       "      <td>abreviasi</td>\n",
       "      <td>0</td>\n",
       "      <td>0</td>\n",
       "    </tr>\n",
       "  </tbody>\n",
       "</table>\n",
       "</div>"
      ],
      "text/plain": [
       "     slang    formal  In-dictionary  \\\n",
       "0     woww       wow              1   \n",
       "1    aminn      amin              1   \n",
       "2      met   selamat              1   \n",
       "3   netaas   menetas              1   \n",
       "4  keberpa  keberapa              0   \n",
       "\n",
       "                                             context  category1 category2  \\\n",
       "0                                                wow   elongasi         0   \n",
       "1  Selamat ulang tahun kakak tulus semoga panjang...   elongasi         0   \n",
       "2  Met hari netaas kak!? Wish you all the best @t...  abreviasi         0   \n",
       "3  Met hari netaas kak!? Wish you all the best @t...   afiksasi  elongasi   \n",
       "4                           Birthday yg keberpa kak?  abreviasi         0   \n",
       "\n",
       "  category3  \n",
       "0         0  \n",
       "1         0  \n",
       "2         0  \n",
       "3         0  \n",
       "4         0  "
      ]
     },
     "execution_count": 29,
     "metadata": {},
     "output_type": "execute_result"
    }
   ],
   "source": [
    "slang_word.head()"
   ]
  },
  {
   "cell_type": "code",
   "execution_count": 30,
   "id": "7e561f41",
   "metadata": {},
   "outputs": [],
   "source": [
    "# Calculate lengths outside the loop\n",
    "content_length = len(df['content'])\n",
    "\n",
    "# Create lookup dictionary for slang words\n",
    "slang_lookup = dict(zip(slang_word['slang'], slang_word['formal']))\n",
    "\n",
    "# Iterate over each content in the DataFrame\n",
    "for i in range(content_length):\n",
    "    series = df.loc[i, 'content']\n",
    "    \n",
    "    # Iterate over each word in the series\n",
    "    for j, word in enumerate(series):\n",
    "        if word in slang_lookup:\n",
    "            series[j] = slang_lookup[word]\n",
    "    \n",
    "    # Update the DataFrame with the modified series\n",
    "    df.loc[i, \"content\"] = series\n"
   ]
  },
  {
   "cell_type": "code",
   "execution_count": 31,
   "id": "ec714e6e",
   "metadata": {},
   "outputs": [
    {
     "data": {
      "text/plain": [
       "['nder',\n",
       " 'aku',\n",
       " 'juga',\n",
       " 'begitu',\n",
       " 'tapi',\n",
       " 'lebih',\n",
       " 'baik',\n",
       " 'jangan',\n",
       " 'foto',\n",
       " 'karena',\n",
       " 'kita',\n",
       " 'enggak',\n",
       " 'tau',\n",
       " 'bagaimana',\n",
       " 'data',\n",
       " 'kita',\n",
       " 'bisa',\n",
       " 'bocor',\n",
       " 'nanti',\n",
       " 'saran',\n",
       " 'sih',\n",
       " 'enggak',\n",
       " 'papa',\n",
       " 'banyak',\n",
       " 'mengaca',\n",
       " 'terus',\n",
       " 'muji',\n",
       " 'hasil',\n",
       " 'diet',\n",
       " 'tapi',\n",
       " 'lebih',\n",
       " 'baik',\n",
       " 'jangan',\n",
       " 'simpan',\n",
       " 'ke',\n",
       " 'dalam',\n",
       " 'bentuk',\n",
       " 'foto',\n",
       " 'nder']"
      ]
     },
     "execution_count": 31,
     "metadata": {},
     "output_type": "execute_result"
    }
   ],
   "source": [
    "df.content[100]"
   ]
  },
  {
   "cell_type": "code",
   "execution_count": 35,
   "id": "00499f91",
   "metadata": {},
   "outputs": [],
   "source": [
    "df.to_csv(r'./csvfile/Scraping_preprocessing_v1.csv', index = False)"
   ]
  },
  {
   "attachments": {},
   "cell_type": "markdown",
   "id": "43e7c7e7",
   "metadata": {},
   "source": [
    "### stopword"
   ]
  },
  {
   "cell_type": "code",
   "execution_count": 18,
   "id": "bd1e6c85",
   "metadata": {},
   "outputs": [],
   "source": [
    "import pandas as pd\n",
    "import ast\n",
    "df = pd.read_csv('./csvfile/Scraping_preprocessing_v2.csv')\n",
    "df['content']= [ast.literal_eval(item) for item in df['content']]"
   ]
  },
  {
   "cell_type": "code",
   "execution_count": 19,
   "id": "c954cdf3",
   "metadata": {},
   "outputs": [
    {
     "name": "stderr",
     "output_type": "stream",
     "text": [
      "[nltk_data] Downloading package stopwords to\n",
      "[nltk_data]     C:\\Users\\HUAWEI\\AppData\\Roaming\\nltk_data...\n",
      "[nltk_data]   Package stopwords is already up-to-date!\n"
     ]
    },
    {
     "data": {
      "text/plain": [
       "True"
      ]
     },
     "execution_count": 19,
     "metadata": {},
     "output_type": "execute_result"
    }
   ],
   "source": [
    "nltk.download('stopwords')"
   ]
  },
  {
   "cell_type": "code",
   "execution_count": 20,
   "id": "724f5a78",
   "metadata": {},
   "outputs": [],
   "source": [
    "from nltk.corpus import stopwords\n",
    "\n",
    "stop_words = set(stopwords.words('indonesian'))\n",
    "content_length = len(df['content'])\n",
    "\n",
    "new_content = []\n",
    "for i in range(content_length):\n",
    "    word_list = df.loc[i, 'content']\n",
    "    filtered_words = [word for word in word_list if word not in stop_words]\n",
    "    new_content.append(filtered_words)\n",
    "\n",
    "df['content'] = new_content\n"
   ]
  }
 ],
 "metadata": {
  "kernelspec": {
   "display_name": "Python 3 (ipykernel)",
   "language": "python",
   "name": "python3"
  },
  "language_info": {
   "codemirror_mode": {
    "name": "ipython",
    "version": 3
   },
   "file_extension": ".py",
   "mimetype": "text/x-python",
   "name": "python",
   "nbconvert_exporter": "python",
   "pygments_lexer": "ipython3",
   "version": "3.10.6"
  }
 },
 "nbformat": 4,
 "nbformat_minor": 5
}
