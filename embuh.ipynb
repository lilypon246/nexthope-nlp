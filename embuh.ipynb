{
  "cells": [
    {
      "cell_type": "code",
      "execution_count": 5,
      "metadata": {},
      "outputs": [],
      "source": [
        "import pandas as pd\n",
        "df = pd.read_csv('./datasets/labeled_df.csv')\n",
        "df['content'] = df['content'].apply(lambda x: [item.strip(\"' \") for item in x[1:-1].split(\",\")])\n",
        "df['content'] = [' '.join(content) for content in df['content']]\n",
        "df.columns = ['content', 'text']"
      ]
    },
    {
      "cell_type": "code",
      "execution_count": 13,
      "metadata": {},
      "outputs": [],
      "source": [
        "from sklearn.model_selection import train_test_split\n",
        "X = df['content']\n",
        "y = df['text']\n",
        "X_train, X_test, y_train, y_test = train_test_split(X, y, test_size=0.2, random_state=42)\n",
        "X_train, X_val, y_train, y_val = train_test_split(X_train, y_train, test_size=0.25, random_state=42)"
      ]
    },
    {
      "cell_type": "code",
      "execution_count": 17,
      "metadata": {},
      "outputs": [
        {
          "data": {
            "text/plain": [
              "28       jalan motor menahan nang teror pinjol psikis k...\n",
              "19899    ah bulan2an politik arus kuat internal dorong ...\n",
              "16594    syarat lawak daftar data bpjs bocor dunia ya k...\n",
              "14333       hhhh big data metaverse2 40 bullsht data bocor\n",
              "12105    lhah sono maneh rek sing pulang wedi ki pinjol...\n",
              "                               ...                        \n",
              "22520      sandi mcdonald si basis data vip monopoli bocor\n",
              "706      indonesia data bocor kemarin server bpjs bocor...\n",
              "2016           pantesan data bocor memegang tanggung model\n",
              "12223    punten nih kalo mengurus faedah mengurus datad...\n",
              "10773    data sim card bocor kominfo operator standar a...\n",
              "Name: content, Length: 13644, dtype: object"
            ]
          },
          "execution_count": 17,
          "metadata": {},
          "output_type": "execute_result"
        }
      ],
      "source": [
        "X_train"
      ]
    },
    {
      "cell_type": "code",
      "execution_count": 24,
      "metadata": {},
      "outputs": [],
      "source": [
        "train_preprocess = pd.DataFrame(list(zip(X_train.tolist(), y_train.tolist())))"
      ]
    },
    {
      "cell_type": "code",
      "execution_count": 30,
      "metadata": {},
      "outputs": [],
      "source": [
        "train_preprocess.to_csv(r'./datasets/embuh1.tsv', sep='\\t', index=False, header=None)"
      ]
    },
    {
      "cell_type": "code",
      "execution_count": 31,
      "metadata": {},
      "outputs": [],
      "source": [
        "valid_preprocess = pd.DataFrame(list(zip(X_val.tolist(), y_val.tolist())))"
      ]
    },
    {
      "cell_type": "code",
      "execution_count": 32,
      "metadata": {},
      "outputs": [],
      "source": [
        "valid_preprocess.to_csv(r'./datasets/embuh2.tsv', sep='\\t', index=False, header=None)"
      ]
    },
    {
      "cell_type": "code",
      "execution_count": 33,
      "metadata": {},
      "outputs": [],
      "source": [
        "test_preprocess_masked_label = pd.DataFrame(list(zip(X_test.tolist(), y_test.tolist())))"
      ]
    },
    {
      "cell_type": "code",
      "execution_count": 34,
      "metadata": {},
      "outputs": [],
      "source": [
        "test_preprocess_masked_label.to_csv(r'./datasets/embuh3.tsv', sep='\\t', index=False, header=None)"
      ]
    },
    {
      "cell_type": "code",
      "execution_count": null,
      "metadata": {},
      "outputs": [],
      "source": []
    }
  ],
  "metadata": {
    "kernelspec": {
      "display_name": "Python 3",
      "language": "python",
      "name": "python3"
    },
    "language_info": {
      "codemirror_mode": {
        "name": "ipython",
        "version": 3
      },
      "file_extension": ".py",
      "mimetype": "text/x-python",
      "name": "python",
      "nbconvert_exporter": "python",
      "pygments_lexer": "ipython3",
      "version": "3.10.6"
    },
    "orig_nbformat": 4
  },
  "nbformat": 4,
  "nbformat_minor": 2
}
