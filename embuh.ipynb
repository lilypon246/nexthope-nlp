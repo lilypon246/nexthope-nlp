{
  "cells": [
    {
      "cell_type": "code",
      "execution_count": 1,
      "metadata": {},
      "outputs": [],
      "source": [
        "import pandas as pd\n",
        "import ast\n",
        "df = pd.read_csv('./datasets/labeled_df.csv')\n",
        "df['content'] = df['content'].apply(lambda x: ' '.join(ast.literal_eval(x)))\n",
        "df.columns = ['content', 'text']"
      ]
    },
    {
      "cell_type": "code",
      "execution_count": 2,
      "metadata": {},
      "outputs": [
        {
          "data": {
            "text/plain": [
              "'contoh buah situs jual beli online nama tkopeda mei 2020 91 juta data 7 juta data jual duga bocor diperjualbelikan'"
            ]
          },
          "execution_count": 2,
          "metadata": {},
          "output_type": "execute_result"
        }
      ],
      "source": [
        "df['content'][21455]"
      ]
    },
    {
      "cell_type": "code",
      "execution_count": 3,
      "metadata": {},
      "outputs": [],
      "source": [
        "from sklearn.model_selection import train_test_split\n",
        "X = df['content']\n",
        "y = df['text']\n",
        "X_train, X_test, y_train, y_test = train_test_split(X, y, test_size=0.2, random_state=42)\n",
        "X_train, X_val, y_train, y_val = train_test_split(X_train, y_train, test_size=0.25, random_state=42)"
      ]
    },
    {
      "cell_type": "code",
      "execution_count": 4,
      "metadata": {},
      "outputs": [
        {
          "data": {
            "text/plain": [
              "'selamat pagi min data ayah pensiun bocor ditelfon mengatasnamakan bkd lamongan bilang tapera cair atm nyata modus tipu tau data2 orang pensiun'"
            ]
          },
          "execution_count": 4,
          "metadata": {},
          "output_type": "execute_result"
        }
      ],
      "source": [
        "X_train.reset_index(drop=True, inplace=True)\n",
        "X_val.reset_index(drop=True, inplace=True)\n",
        "X_test.reset_index(drop=True, inplace=True)\n",
        "y_train.reset_index(drop=True, inplace=True)\n",
        "y_test.reset_index(drop=True, inplace=True)\n",
        "y_val.reset_index(drop=True, inplace=True)\n",
        "\n",
        "X_train[6015]"
      ]
    },
    {
      "cell_type": "code",
      "execution_count": 5,
      "metadata": {},
      "outputs": [
        {
          "data": {
            "text/plain": [
              "'selamat pagi min data ayah pensiun bocor ditelfon mengatasnamakan bkd lamongan bilang tapera cair atm nyata modus tipu tau data2 orang pensiun'"
            ]
          },
          "execution_count": 5,
          "metadata": {},
          "output_type": "execute_result"
        }
      ],
      "source": [
        "train_preprocess = pd.DataFrame(list(zip(X_train.tolist(), y_train.tolist())))\n",
        "train_preprocess[0][6015]"
      ]
    },
    {
      "cell_type": "code",
      "execution_count": 6,
      "metadata": {},
      "outputs": [],
      "source": [
        "train_preprocess.to_csv(r'./datasets/embuh1.tsv', sep='\\t', header=None, index=None)"
      ]
    },
    {
      "cell_type": "code",
      "execution_count": 7,
      "metadata": {},
      "outputs": [],
      "source": [
        "df = pd.read_csv('./datasets/embuh1.tsv', delimiter='\\t')"
      ]
    },
    {
      "cell_type": "code",
      "execution_count": 8,
      "metadata": {},
      "outputs": [],
      "source": [
        "valid_preprocess = pd.DataFrame(list(zip(X_val.tolist(), y_val.tolist())))"
      ]
    },
    {
      "cell_type": "code",
      "execution_count": 9,
      "metadata": {},
      "outputs": [],
      "source": [
        "valid_preprocess.to_csv(r'./datasets/embuh2.tsv', sep='\\t', index=False, header=None)"
      ]
    },
    {
      "cell_type": "code",
      "execution_count": 10,
      "metadata": {},
      "outputs": [],
      "source": [
        "test_preprocess_masked_label = pd.DataFrame(list(zip(X_test.tolist(), y_test.tolist())))"
      ]
    },
    {
      "cell_type": "code",
      "execution_count": 11,
      "metadata": {},
      "outputs": [],
      "source": [
        "test_preprocess_masked_label.to_csv(r'./datasets/embuh3.tsv', sep='\\t', index=False, header=None)"
      ]
    }
  ],
  "metadata": {
    "kernelspec": {
      "display_name": "Python 3",
      "language": "python",
      "name": "python3"
    },
    "language_info": {
      "codemirror_mode": {
        "name": "ipython",
        "version": 3
      },
      "file_extension": ".py",
      "mimetype": "text/x-python",
      "name": "python",
      "nbconvert_exporter": "python",
      "pygments_lexer": "ipython3",
      "version": "3.10.6"
    },
    "orig_nbformat": 4
  },
  "nbformat": 4,
  "nbformat_minor": 2
}
