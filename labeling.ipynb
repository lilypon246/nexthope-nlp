{
  "cells": [
    {
      "cell_type": "code",
      "execution_count": 31,
      "metadata": {},
      "outputs": [],
      "source": [
        "import pandas as pd\n",
        "import ast\n",
        "df = pd.read_csv(\"./datasets/Scraping_preprocessing_v2.csv\")\n",
        "df['content']= [ast.literal_eval(item) for item in df['content']]"
      ]
    },
    {
      "cell_type": "code",
      "execution_count": 32,
      "metadata": {},
      "outputs": [],
      "source": [
        "positive_dict = pd.read_csv('./kamus/positive.csv')"
      ]
    },
    {
      "cell_type": "code",
      "execution_count": 33,
      "metadata": {},
      "outputs": [],
      "source": [
        "negative_dict = pd.read_csv('./kamus/negative.csv')"
      ]
    },
    {
      "cell_type": "code",
      "execution_count": 34,
      "metadata": {},
      "outputs": [],
      "source": [
        "positive_word = positive_dict['word'].tolist()\n",
        "positive_score = positive_dict['weight'].tolist()\n",
        "negative_word = negative_dict['word'].tolist()\n",
        "negative_score = negative_dict['weight'].tolist()"
      ]
    },
    {
      "cell_type": "code",
      "execution_count": 35,
      "metadata": {},
      "outputs": [],
      "source": [
        "lexicon_positive = dict(zip(positive_word, positive_score))\n",
        "lexicon_negative = dict(zip(negative_word, negative_score))"
      ]
    },
    {
      "cell_type": "code",
      "execution_count": 37,
      "metadata": {},
      "outputs": [],
      "source": [
        "def sentiment_analysis(content):\n",
        "    score = 0    \n",
        "    for word in content:                        \n",
        "        if word in positive_word:        \n",
        "            score += lexicon_positive[word]              \n",
        "    for word in content:\n",
        "        if word in negative_word:            \n",
        "            score += lexicon_negative[word]\n",
        "            if word == 'kosong':\n",
        "    polarity = \"\"\n",
        "    if score > 0:\n",
        "        polarity = \"positive\"\n",
        "    elif score < 0:\n",
        "        polarity = \"negative\"\n",
        "    else:\n",
        "        polarity = \"neutral\"\n",
        "    return score, polarity"
      ]
    },
    {
      "cell_type": "code",
      "execution_count": null,
      "metadata": {},
      "outputs": [],
      "source": [
        "results = df['content'].apply(sentiment_analysis)\n",
        "results = list(zip(*results))\n",
        "df['sentiment'] = results[1]"
      ]
    },
    {
      "cell_type": "code",
      "execution_count": 39,
      "metadata": {},
      "outputs": [
        {
          "data": {
            "text/plain": [
              "negative    21715\n",
              "positive      712\n",
              "neutral       313\n",
              "Name: sentiment, dtype: int64"
            ]
          },
          "execution_count": 39,
          "metadata": {},
          "output_type": "execute_result"
        }
      ],
      "source": [
        "df['sentiment'].value_counts()"
      ]
    },
    {
      "cell_type": "code",
      "execution_count": 40,
      "metadata": {},
      "outputs": [],
      "source": [
        "df = df.drop('date', axis=1)"
      ]
    },
    {
      "cell_type": "code",
      "execution_count": 41,
      "metadata": {},
      "outputs": [],
      "source": [
        "df.to_csv(r'./datasets/labeled_df.csv', index=False)"
      ]
    }
  ],
  "metadata": {
    "kernelspec": {
      "display_name": "Python 3",
      "language": "python",
      "name": "python3"
    },
    "language_info": {
      "codemirror_mode": {
        "name": "ipython",
        "version": 3
      },
      "file_extension": ".py",
      "mimetype": "text/x-python",
      "name": "python",
      "nbconvert_exporter": "python",
      "pygments_lexer": "ipython3",
      "version": "3.10.6"
    },
    "orig_nbformat": 4
  },
  "nbformat": 4,
  "nbformat_minor": 2
}
