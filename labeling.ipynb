{
 "cells": [
  {
   "cell_type": "code",
   "execution_count": 146,
   "metadata": {},
   "outputs": [],
   "source": [
    "import pandas as pd\n",
    "import ast\n",
    "df = pd.read_csv(\"./csvfile/Scraping_preprocessing_v2.csv\")\n",
    "df['content']= [ast.literal_eval(item) for item in df['content']]"
   ]
  },
  {
   "cell_type": "code",
   "execution_count": 147,
   "metadata": {},
   "outputs": [],
   "source": [
    "positive_dict = pd.read_csv('./kamus/positive.csv')"
   ]
  },
  {
   "cell_type": "code",
   "execution_count": 148,
   "metadata": {},
   "outputs": [],
   "source": [
    "negative_dict = pd.read_csv('./kamus/negative.csv')"
   ]
  },
  {
   "cell_type": "code",
   "execution_count": 159,
   "metadata": {},
   "outputs": [],
   "source": [
    "positive_word = positive_dict['word'].tolist()\n",
    "positive_score = positive_dict['weight'].tolist()\n",
    "negative_word = negative_dict['word'].tolist()\n",
    "negative_score = negative_dict['weight'].tolist()"
   ]
  },
  {
   "cell_type": "code",
   "execution_count": 161,
   "metadata": {},
   "outputs": [],
   "source": [
    "lexicon_positive = dict(zip(positive_word, positive_score))\n",
    "lexicon_negative = dict(zip(negative_word, negative_score))"
   ]
  },
  {
   "cell_type": "code",
   "execution_count": 163,
   "metadata": {},
   "outputs": [],
   "source": [
    "def sentiment_analysis(content):\n",
    "    score = 0\n",
    "    for word in content:\n",
    "        if word in positive_word:        \n",
    "            score += lexicon_positive[word]\n",
    "    for word in content:\n",
    "        if word in negative_word:            \n",
    "            score += lexicon_negative[word]\n",
    "    polarity = ''\n",
    "    if score > 0:\n",
    "        polarity = 'positive'\n",
    "    elif score < 0:\n",
    "        polarity = 'negative'\n",
    "    else:\n",
    "        polarity = 'neutral'\n",
    "    return score, polarity"
   ]
  },
  {
   "cell_type": "code",
   "execution_count": null,
   "metadata": {},
   "outputs": [],
   "source": [
    "results = df['content'].apply(sentiment_analysis)\n",
    "results = list(zip(*results))\n",
    "df['polarity'] = results[0]\n",
    "df['sentiment'] = results[1]"
   ]
  },
  {
   "cell_type": "code",
   "execution_count": 176,
   "metadata": {},
   "outputs": [
    {
     "data": {
      "text/plain": [
       "negative    21715\n",
       "positive      712\n",
       "neutral       319\n",
       "Name: sentiment, dtype: int64"
      ]
     },
     "execution_count": 176,
     "metadata": {},
     "output_type": "execute_result"
    }
   ],
   "source": [
    "df['sentiment'].value_counts()"
   ]
  }
 ],
 "metadata": {
  "kernelspec": {
   "display_name": "Python 3",
   "language": "python",
   "name": "python3"
  },
  "language_info": {
   "codemirror_mode": {
    "name": "ipython",
    "version": 3
   },
   "file_extension": ".py",
   "mimetype": "text/x-python",
   "name": "python",
   "nbconvert_exporter": "python",
   "pygments_lexer": "ipython3",
   "version": "3.10.6"
  },
  "orig_nbformat": 4
 },
 "nbformat": 4,
 "nbformat_minor": 2
}
