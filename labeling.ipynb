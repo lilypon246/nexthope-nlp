{
  "cells": [
    {
      "cell_type": "code",
      "execution_count": 33,
      "metadata": {},
      "outputs": [],
      "source": [
        "import pandas as pd\n",
        "import ast\n",
        "df = pd.read_csv(\"./datasets/Scraping_preprocessing_v2.csv\")\n",
        "df['content']= [ast.literal_eval(item) for item in df['content']]"
      ]
    },
    {
      "cell_type": "code",
      "execution_count": 34,
      "metadata": {},
      "outputs": [],
      "source": [
        "positive_dict = pd.read_csv('./kamus/positive.csv')"
      ]
    },
    {
      "cell_type": "code",
      "execution_count": 35,
      "metadata": {},
      "outputs": [],
      "source": [
        "negative_dict = pd.read_csv('./kamus/negative.csv')"
      ]
    },
    {
      "cell_type": "code",
      "execution_count": 36,
      "metadata": {},
      "outputs": [],
      "source": [
        "positive_word = positive_dict['word'].tolist()\n",
        "positive_score = positive_dict['weight'].tolist()\n",
        "negative_word = negative_dict['word'].tolist()\n",
        "negative_score = negative_dict['weight'].tolist()"
      ]
    },
    {
      "cell_type": "code",
      "execution_count": 37,
      "metadata": {},
      "outputs": [],
      "source": [
        "lexicon_positive = dict(zip(positive_word, positive_score))\n",
        "lexicon_negative = dict(zip(negative_word, negative_score))"
      ]
    },
    {
      "cell_type": "code",
      "execution_count": 38,
      "metadata": {},
      "outputs": [],
      "source": [
        "def sentiment_analysis(content):\n",
        "    score = 0\n",
        "    for word in content:\n",
        "        if word in positive_word:        \n",
        "            score += lexicon_positive[word]\n",
        "    for word in content:\n",
        "        if word in negative_word:            \n",
        "            score += lexicon_negative[word]\n",
        "    polarity = \"neutral\"\n",
        "    if score > 0:\n",
        "        polarity = \"positive\"\n",
        "    elif score < 0:\n",
        "        polarity = \"negative\"\n",
        "    return score, polarity"
      ]
    },
    {
      "cell_type": "code",
      "execution_count": 39,
      "metadata": {},
      "outputs": [],
      "source": [
        "results = df['content'].apply(sentiment_analysis)\n",
        "results = list(zip(*results))\n",
        "df['sentiment'] = results[1]"
      ]
    },
    {
      "cell_type": "code",
      "execution_count": 40,
      "metadata": {},
      "outputs": [
        {
          "data": {
            "text/plain": [
              "negative    21715\n",
              "positive      712\n",
              "neutral       314\n",
              "Name: sentiment, dtype: int64"
            ]
          },
          "execution_count": 40,
          "metadata": {},
          "output_type": "execute_result"
        }
      ],
      "source": [
        "df['sentiment'].value_counts()"
      ]
    },
    {
      "cell_type": "code",
      "execution_count": 41,
      "metadata": {},
      "outputs": [
        {
          "data": {
            "text/html": [
              "<div>\n",
              "<style scoped>\n",
              "    .dataframe tbody tr th:only-of-type {\n",
              "        vertical-align: middle;\n",
              "    }\n",
              "\n",
              "    .dataframe tbody tr th {\n",
              "        vertical-align: top;\n",
              "    }\n",
              "\n",
              "    .dataframe thead th {\n",
              "        text-align: right;\n",
              "    }\n",
              "</style>\n",
              "<table border=\"1\" class=\"dataframe\">\n",
              "  <thead>\n",
              "    <tr style=\"text-align: right;\">\n",
              "      <th></th>\n",
              "      <th>date</th>\n",
              "      <th>content</th>\n",
              "      <th>sentiment</th>\n",
              "    </tr>\n",
              "  </thead>\n",
              "  <tbody>\n",
              "    <tr>\n",
              "      <th>0</th>\n",
              "      <td>2023-06-14 18:18:38+00:00</td>\n",
              "      <td>[abai, dishare, manis, nya, ruu, kesehatanyang...</td>\n",
              "      <td>negative</td>\n",
              "    </tr>\n",
              "    <tr>\n",
              "      <th>1</th>\n",
              "      <td>2023-06-14 16:19:09+00:00</td>\n",
              "      <td>[stunting, jamban, bersih, alat, usg, tbc, mat...</td>\n",
              "      <td>negative</td>\n",
              "    </tr>\n",
              "    <tr>\n",
              "      <th>2</th>\n",
              "      <td>2023-06-14 14:33:16+00:00</td>\n",
              "      <td>[ayo, tanggung, kalo, data, genom, bocor, data...</td>\n",
              "      <td>negative</td>\n",
              "    </tr>\n",
              "    <tr>\n",
              "      <th>3</th>\n",
              "      <td>2023-06-14 14:08:05+00:00</td>\n",
              "      <td>[polos, banget, sih, panik, data, bocor, tau, ...</td>\n",
              "      <td>negative</td>\n",
              "    </tr>\n",
              "    <tr>\n",
              "      <th>4</th>\n",
              "      <td>2023-06-14 14:02:08+00:00</td>\n",
              "      <td>[data, bocor, data, sinkron, sih, kalo, benara...</td>\n",
              "      <td>negative</td>\n",
              "    </tr>\n",
              "    <tr>\n",
              "      <th>...</th>\n",
              "      <td>...</td>\n",
              "      <td>...</td>\n",
              "      <td>...</td>\n",
              "    </tr>\n",
              "    <tr>\n",
              "      <th>22736</th>\n",
              "      <td>2021-09-07 01:27:32+00:00</td>\n",
              "      <td>[bocor, aplikasi, pedulilindungi, kena, data, ...</td>\n",
              "      <td>negative</td>\n",
              "    </tr>\n",
              "    <tr>\n",
              "      <th>22737</th>\n",
              "      <td>2021-09-07 01:27:17+00:00</td>\n",
              "      <td>[aplikasi, data, orang, nomorsatu, negeri, boc...</td>\n",
              "      <td>negative</td>\n",
              "    </tr>\n",
              "    <tr>\n",
              "      <th>22738</th>\n",
              "      <td>2021-09-07 01:23:30+00:00</td>\n",
              "      <td>[2, protes, ah, ngeri, data, bocor, issh]</td>\n",
              "      <td>negative</td>\n",
              "    </tr>\n",
              "    <tr>\n",
              "      <th>22739</th>\n",
              "      <td>2021-09-07 01:15:45+00:00</td>\n",
              "      <td>[kait, bocor, data, ulah, sebar, hoax]</td>\n",
              "      <td>negative</td>\n",
              "    </tr>\n",
              "    <tr>\n",
              "      <th>22740</th>\n",
              "      <td>2021-09-07 01:15:00+00:00</td>\n",
              "      <td>[data, rakyat, bocor, hubung, sih, mpermudah, ...</td>\n",
              "      <td>negative</td>\n",
              "    </tr>\n",
              "  </tbody>\n",
              "</table>\n",
              "<p>22741 rows × 3 columns</p>\n",
              "</div>"
            ],
            "text/plain": [
              "                            date  \\\n",
              "0      2023-06-14 18:18:38+00:00   \n",
              "1      2023-06-14 16:19:09+00:00   \n",
              "2      2023-06-14 14:33:16+00:00   \n",
              "3      2023-06-14 14:08:05+00:00   \n",
              "4      2023-06-14 14:02:08+00:00   \n",
              "...                          ...   \n",
              "22736  2021-09-07 01:27:32+00:00   \n",
              "22737  2021-09-07 01:27:17+00:00   \n",
              "22738  2021-09-07 01:23:30+00:00   \n",
              "22739  2021-09-07 01:15:45+00:00   \n",
              "22740  2021-09-07 01:15:00+00:00   \n",
              "\n",
              "                                                 content sentiment  \n",
              "0      [abai, dishare, manis, nya, ruu, kesehatanyang...  negative  \n",
              "1      [stunting, jamban, bersih, alat, usg, tbc, mat...  negative  \n",
              "2      [ayo, tanggung, kalo, data, genom, bocor, data...  negative  \n",
              "3      [polos, banget, sih, panik, data, bocor, tau, ...  negative  \n",
              "4      [data, bocor, data, sinkron, sih, kalo, benara...  negative  \n",
              "...                                                  ...       ...  \n",
              "22736  [bocor, aplikasi, pedulilindungi, kena, data, ...  negative  \n",
              "22737  [aplikasi, data, orang, nomorsatu, negeri, boc...  negative  \n",
              "22738          [2, protes, ah, ngeri, data, bocor, issh]  negative  \n",
              "22739             [kait, bocor, data, ulah, sebar, hoax]  negative  \n",
              "22740  [data, rakyat, bocor, hubung, sih, mpermudah, ...  negative  \n",
              "\n",
              "[22741 rows x 3 columns]"
            ]
          },
          "execution_count": 41,
          "metadata": {},
          "output_type": "execute_result"
        }
      ],
      "source": [
        "df"
      ]
    },
    {
      "cell_type": "code",
      "execution_count": null,
      "metadata": {},
      "outputs": [],
      "source": [
        "df = df.drop('date', axis=1)"
      ]
    },
    {
      "cell_type": "code",
      "execution_count": 45,
      "metadata": {},
      "outputs": [],
      "source": [
        "df.to_csv('./datasets/labeled_df.csv', index=False)"
      ]
    }
  ],
  "metadata": {
    "kernelspec": {
      "display_name": "Python 3",
      "language": "python",
      "name": "python3"
    },
    "language_info": {
      "codemirror_mode": {
        "name": "ipython",
        "version": 3
      },
      "file_extension": ".py",
      "mimetype": "text/x-python",
      "name": "python",
      "nbconvert_exporter": "python",
      "pygments_lexer": "ipython3",
      "version": "3.10.6"
    },
    "orig_nbformat": 4
  },
  "nbformat": 4,
  "nbformat_minor": 2
}
